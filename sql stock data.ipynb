{
 "cells": [
  {
   "cell_type": "code",
   "execution_count": 1,
   "metadata": {},
   "outputs": [],
   "source": [
    "import mysql.connector"
   ]
  },
  {
   "cell_type": "code",
   "execution_count": 9,
   "metadata": {},
   "outputs": [
    {
     "name": "stdout",
     "output_type": "stream",
     "text": [
      "('2020-02-11', 190.649994, 190.699997, 183.5, 184.440002, 183.426743, 53159900)\n",
      "('2020-02-10', 183.580002, 188.839996, 183.25, 188.699997, 187.66333, 35844300)\n",
      "('2020-02-19', 188.059998, 188.179993, 186.470001, 187.279999, 186.759857, 29997500)\n"
     ]
    }
   ],
   "source": [
    "mydb = mysql.connector.connect(host = 'localhost', user = 'root', passwd = '4V1sh44!', database = 'testdb')\n",
    "\n",
    "mycursor = mydb.cursor()\n",
    "\n",
    "mycursor.execute(\"SELECT * FROM msft HAVING High > 128 ORDER BY High desc LIMIT 3\")\n",
    "\n",
    "myresult = mycursor.fetchall()\n",
    "\n",
    "for x in myresult:\n",
    "    print(x)"
   ]
  },
  {
   "cell_type": "code",
   "execution_count": 1,
   "metadata": {},
   "outputs": [],
   "source": [
    "import pandas as pd "
   ]
  },
  {
   "cell_type": "code",
   "execution_count": 2,
   "metadata": {},
   "outputs": [],
   "source": [
    "import numpy as np"
   ]
  },
  {
   "cell_type": "code",
   "execution_count": 5,
   "metadata": {},
   "outputs": [],
   "source": [
    "filename = 'msft.csv'"
   ]
  },
  {
   "cell_type": "code",
   "execution_count": 6,
   "metadata": {},
   "outputs": [],
   "source": [
    "df = pd.read_csv(filename)"
   ]
  },
  {
   "cell_type": "code",
   "execution_count": 7,
   "metadata": {},
   "outputs": [
    {
     "name": "stdout",
     "output_type": "stream",
     "text": [
      "           Date        Open        High         Low       Close   Adj Close  \\\n",
      "0    2019-05-28  126.980003  128.000000  126.050003  126.160004  124.626442   \n",
      "1    2019-05-29  125.379997  125.389999  124.040001  124.940002  123.421265   \n",
      "2    2019-05-30  125.260002  125.760002  124.779999  125.730003  124.201653   \n",
      "3    2019-05-31  124.230003  124.620003  123.320000  123.680000  122.176575   \n",
      "4    2019-06-03  123.849998  124.370003  119.010002  119.839996  118.383247   \n",
      "..          ...         ...         ...         ...         ...         ...   \n",
      "246  2020-05-18  185.750000  186.199997  183.960007  184.910004  184.396439   \n",
      "247  2020-05-19  185.029999  186.600006  183.490005  183.630005  183.119995   \n",
      "248  2020-05-20  184.809998  185.850006  183.940002  185.660004  185.660004   \n",
      "249  2020-05-21  185.399994  186.669998  183.289993  183.429993  183.429993   \n",
      "250  2020-05-22  183.190002  184.460007  182.539993  183.509995  183.509995   \n",
      "\n",
      "       Volume  \n",
      "0    23128400  \n",
      "1    22763100  \n",
      "2    16829600  \n",
      "3    26646800  \n",
      "4    37983600  \n",
      "..        ...  \n",
      "246  35306600  \n",
      "247  26799100  \n",
      "248  31261300  \n",
      "249  29119500  \n",
      "250  20809700  \n",
      "\n",
      "[251 rows x 7 columns]\n"
     ]
    }
   ],
   "source": [
    "print(df)"
   ]
  },
  {
   "cell_type": "code",
   "execution_count": 9,
   "metadata": {},
   "outputs": [
    {
     "name": "stdout",
     "output_type": "stream",
     "text": [
      "Date          object\n",
      "Open         float64\n",
      "High         float64\n",
      "Low          float64\n",
      "Close        float64\n",
      "Adj Close    float64\n",
      "Volume         int64\n",
      "dtype: object\n"
     ]
    }
   ],
   "source": [
    "print(df.dtypes)"
   ]
  },
  {
   "cell_type": "code",
   "execution_count": 10,
   "metadata": {},
   "outputs": [
    {
     "name": "stdout",
     "output_type": "stream",
     "text": [
      "RangeIndex(start=0, stop=251, step=1)\n"
     ]
    }
   ],
   "source": [
    "print(df.index)"
   ]
  },
  {
   "cell_type": "code",
   "execution_count": 11,
   "metadata": {},
   "outputs": [
    {
     "data": {
      "text/plain": [
       "Index(['Date', 'Open', 'High', 'Low', 'Close', 'Adj Close', 'Volume'], dtype='object')"
      ]
     },
     "execution_count": 11,
     "metadata": {},
     "output_type": "execute_result"
    }
   ],
   "source": [
    "df.columns"
   ]
  },
  {
   "cell_type": "code",
   "execution_count": 12,
   "metadata": {},
   "outputs": [
    {
     "name": "stdout",
     "output_type": "stream",
     "text": [
      "Index(['Date', 'Open', 'High', 'Low', 'Close', 'Adj Close', 'Volume'], dtype='object')\n"
     ]
    }
   ],
   "source": [
    "print(df.columns)"
   ]
  },
  {
   "cell_type": "code",
   "execution_count": 13,
   "metadata": {},
   "outputs": [
    {
     "data": {
      "text/plain": [
       "array([['2019-05-28', 126.980003, 128.0, ..., 126.160004, 124.626442,\n",
       "        23128400],\n",
       "       ['2019-05-29', 125.379997, 125.389999, ..., 124.940002,\n",
       "        123.42126499999999, 22763100],\n",
       "       ['2019-05-30', 125.260002, 125.760002, ..., 125.730003,\n",
       "        124.20165300000001, 16829600],\n",
       "       ...,\n",
       "       ['2020-05-20', 184.809998, 185.850006, ..., 185.66000400000001,\n",
       "        185.66000400000001, 31261300],\n",
       "       ['2020-05-21', 185.399994, 186.669998, ..., 183.429993,\n",
       "        183.429993, 29119500],\n",
       "       ['2020-05-22', 183.190002, 184.46000700000002, ..., 183.509995,\n",
       "        183.509995, 20809700]], dtype=object)"
      ]
     },
     "execution_count": 13,
     "metadata": {},
     "output_type": "execute_result"
    }
   ],
   "source": [
    "df.values"
   ]
  },
  {
   "cell_type": "code",
   "execution_count": 14,
   "metadata": {},
   "outputs": [
    {
     "data": {
      "text/plain": [
       "<bound method NDFrame.describe of            Date        Open        High         Low       Close   Adj Close  \\\n",
       "0    2019-05-28  126.980003  128.000000  126.050003  126.160004  124.626442   \n",
       "1    2019-05-29  125.379997  125.389999  124.040001  124.940002  123.421265   \n",
       "2    2019-05-30  125.260002  125.760002  124.779999  125.730003  124.201653   \n",
       "3    2019-05-31  124.230003  124.620003  123.320000  123.680000  122.176575   \n",
       "4    2019-06-03  123.849998  124.370003  119.010002  119.839996  118.383247   \n",
       "..          ...         ...         ...         ...         ...         ...   \n",
       "246  2020-05-18  185.750000  186.199997  183.960007  184.910004  184.396439   \n",
       "247  2020-05-19  185.029999  186.600006  183.490005  183.630005  183.119995   \n",
       "248  2020-05-20  184.809998  185.850006  183.940002  185.660004  185.660004   \n",
       "249  2020-05-21  185.399994  186.669998  183.289993  183.429993  183.429993   \n",
       "250  2020-05-22  183.190002  184.460007  182.539993  183.509995  183.509995   \n",
       "\n",
       "       Volume  \n",
       "0    23128400  \n",
       "1    22763100  \n",
       "2    16829600  \n",
       "3    26646800  \n",
       "4    37983600  \n",
       "..        ...  \n",
       "246  35306600  \n",
       "247  26799100  \n",
       "248  31261300  \n",
       "249  29119500  \n",
       "250  20809700  \n",
       "\n",
       "[251 rows x 7 columns]>"
      ]
     },
     "execution_count": 14,
     "metadata": {},
     "output_type": "execute_result"
    }
   ],
   "source": [
    "df.describe"
   ]
  },
  {
   "cell_type": "code",
   "execution_count": 16,
   "metadata": {},
   "outputs": [
    {
     "name": "stdout",
     "output_type": "stream",
     "text": [
      "           Date        Open        High         Low       Close   Adj Close  \\\n",
      "250  2020-05-22  183.190002  184.460007  182.539993  183.509995  183.509995   \n",
      "248  2020-05-20  184.809998  185.850006  183.940002  185.660004  185.660004   \n",
      "246  2020-05-18  185.750000  186.199997  183.960007  184.910004  184.396439   \n",
      "247  2020-05-19  185.029999  186.600006  183.490005  183.630005  183.119995   \n",
      "249  2020-05-21  185.399994  186.669998  183.289993  183.429993  183.429993   \n",
      "\n",
      "       Volume  \n",
      "250  20809700  \n",
      "248  31261300  \n",
      "246  35306600  \n",
      "247  26799100  \n",
      "249  29119500  \n"
     ]
    }
   ],
   "source": [
    "print(df.tail(5).sort_values('High',ascending=True))"
   ]
  },
  {
   "cell_type": "code",
   "execution_count": null,
   "metadata": {},
   "outputs": [],
   "source": [
    "#focus on summary statistics \n",
    "#fundamental statistics "
   ]
  }
 ],
 "metadata": {
  "kernelspec": {
   "display_name": "Python 3",
   "language": "python",
   "name": "python3"
  },
  "language_info": {
   "codemirror_mode": {
    "name": "ipython",
    "version": 3
   },
   "file_extension": ".py",
   "mimetype": "text/x-python",
   "name": "python",
   "nbconvert_exporter": "python",
   "pygments_lexer": "ipython3",
   "version": "3.7.6"
  }
 },
 "nbformat": 4,
 "nbformat_minor": 4
}
