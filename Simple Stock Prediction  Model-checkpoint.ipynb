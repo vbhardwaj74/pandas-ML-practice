{
 "cells": [
  {
   "cell_type": "code",
   "execution_count": 1,
   "metadata": {},
   "outputs": [],
   "source": [
    "import requests"
   ]
  },
  {
   "cell_type": "code",
   "execution_count": 2,
   "metadata": {},
   "outputs": [],
   "source": [
    "def get_stock_data(stock_symbol, start_date, end_date):\n",
    "    base_url = f'https://api.tiingo.com/tiingo/daily/{stock_symbol}/prices?'\n",
    "    token = '92549df1ba9e9e2d4d3c7c916a312b5f665a92a4'\n",
    "    payload = {\n",
    "        'startDate': start_date,\n",
    "        'endDate': end_date,\n",
    "        'token': token\n",
    "    }\n",
    "    response = requests.get(base_url, params=payload)\n",
    "    return response"
   ]
  },
  {
   "cell_type": "code",
   "execution_count": 4,
   "metadata": {},
   "outputs": [
    {
     "name": "stdout",
     "output_type": "stream",
     "text": [
      "https://api.tiingo.com/tiingo/daily/AAPL/prices?startDate=2019-1-1&endDate=2019-5-2&token=92549df1ba9e9e2d4d3c7c916a312b5f665a92a4\n",
      "[{'date': '2019-01-02T00:00:00.000Z', 'close': 157.92, 'high': 158.85, 'low': 154.23, 'open': 154.89, 'volume': 37039737, 'adjClose': 157.24639009, 'adjHigh': 158.1724231623, 'adjLow': 153.5721298352, 'adjOpen': 154.2293145962, 'adjVolume': 37039737, 'divCash': 0.0, 'splitFactor': 1.0}, {'date': '2019-01-03T00:00:00.000Z', 'close': 142.19, 'high': 145.72, 'low': 142.0, 'open': 143.98, 'volume': 91312195, 'adjClose': 141.5834866191, 'adjHigh': 145.0984293561, 'adjLow': 141.3942970667, 'adjOpen': 143.3658513498, 'adjVolume': 91312195, 'divCash': 0.0, 'splitFactor': 1.0}, {'date': '2019-01-04T00:00:00.000Z', 'close': 148.26, 'high': 148.5499, 'low': 143.8, 'open': 144.53, 'volume': 58607070, 'adjClose': 147.6275949515, 'adjHigh': 147.9162583791, 'adjLow': 143.1866191422, 'adjOpen': 143.9135053173, 'adjVolume': 58607070, 'divCash': 0.0, 'splitFactor': 1.0}, {'date': '2019-01-07T00:00:00.000Z', 'close': 147.93, 'high': 148.83, 'low': 145.9, 'open': 148.7, 'volume': 54777764, 'adjClose': 147.299002571, 'adjHigh': 148.1951636087, 'adjLow': 145.2776615636, 'adjOpen': 148.0657181255, 'adjVolume': 54777764, 'divCash': 0.0, 'splitFactor': 1.0}, {'date': '2019-01-08T00:00:00.000Z', 'close': 150.75, 'high': 151.82, 'low': 148.52, 'open': 149.56, 'volume': 41025314, 'adjClose': 150.1069738226, 'adjHigh': 151.172409723, 'adjLow': 147.886485918, 'adjOpen': 148.9220497838, 'adjVolume': 41025314, 'divCash': 0.0, 'splitFactor': 1.0}, {'date': '2019-01-09T00:00:00.000Z', 'close': 153.31, 'high': 154.53, 'low': 149.63, 'open': 151.29, 'volume': 45099081, 'adjClose': 152.6560541077, 'adjHigh': 153.8708501811, 'adjLow': 148.9917511978, 'adjOpen': 150.6446704453, 'adjVolume': 45099081, 'divCash': 0.0, 'splitFactor': 1.0}, {'date': '2019-01-10T00:00:00.000Z', 'close': 153.8, 'high': 153.97, 'low': 150.86, 'open': 152.5, 'volume': 35780670, 'adjClose': 153.1439640061, 'adjHigh': 153.3132388688, 'adjLow': 150.2165046161, 'adjOpen': 151.8495091738, 'adjVolume': 35780670, 'divCash': 0.0, 'splitFactor': 1.0}, {'date': '2019-01-11T00:00:00.000Z', 'close': 152.29, 'high': 153.7, 'low': 151.51, 'open': 152.88, 'volume': 27023241, 'adjClose': 151.6404049316, 'adjHigh': 153.0443905574, 'adjLow': 150.8637320323, 'adjOpen': 152.2278882786, 'adjVolume': 27023241, 'divCash': 0.0, 'splitFactor': 1.0}, {'date': '2019-01-14T00:00:00.000Z', 'close': 150.0, 'high': 151.27, 'low': 149.22, 'open': 150.85, 'volume': 32439186, 'adjClose': 149.3601729578, 'adjHigh': 150.6247557555, 'adjLow': 148.5835000584, 'adjOpen': 150.2065472712, 'adjVolume': 32439186, 'divCash': 0.0, 'splitFactor': 1.0}, {'date': '2019-01-15T00:00:00.000Z', 'close': 153.07, 'high': 153.39, 'low': 150.05, 'open': 150.27, 'volume': 28710324, 'adjClose': 152.417077831, 'adjHigh': 152.7357128667, 'adjLow': 149.4099596821, 'adjOpen': 149.6290212691, 'adjVolume': 28710324, 'divCash': 0.0, 'splitFactor': 1.0}, {'date': '2019-01-16T00:00:00.000Z', 'close': 154.94, 'high': 155.88, 'low': 153.0, 'open': 153.08, 'volume': 30569706, 'adjClose': 154.2791013206, 'adjHigh': 155.2150917378, 'adjLow': 152.347376417, 'adjOpen': 152.4270351759, 'adjVolume': 30569706, 'divCash': 0.0, 'splitFactor': 1.0}, {'date': '2019-01-17T00:00:00.000Z', 'close': 155.86, 'high': 157.66, 'low': 153.26, 'open': 154.2, 'volume': 29821160, 'adjClose': 155.195177048, 'adjHigh': 156.9874991235, 'adjLow': 152.6062673834, 'adjOpen': 153.5422578006, 'adjVolume': 29821160, 'divCash': 0.0, 'splitFactor': 1.0}, {'date': '2019-01-18T00:00:00.000Z', 'close': 156.82, 'high': 157.88, 'low': 155.9806, 'open': 157.5, 'volume': 33751023, 'adjClose': 156.151082155, 'adjHigh': 157.2065607105, 'adjLow': 155.3152626271, 'adjOpen': 156.8281816057, 'adjVolume': 33751023, 'divCash': 0.0, 'splitFactor': 1.0}, {'date': '2019-01-22T00:00:00.000Z', 'close': 153.3, 'high': 156.73, 'low': 152.62, 'open': 156.41, 'volume': 30393970, 'adjClose': 152.6460967629, 'adjHigh': 156.0614660512, 'adjLow': 151.9689973121, 'adjOpen': 155.7428310155, 'adjVolume': 30393970, 'divCash': 0.0, 'splitFactor': 1.0}, {'date': '2019-01-23T00:00:00.000Z', 'close': 153.92, 'high': 155.14, 'low': 151.7, 'open': 154.15, 'volume': 23130570, 'adjClose': 153.2634521444, 'adjHigh': 154.4782482178, 'adjLow': 151.0529215847, 'adjOpen': 153.4924710763, 'adjVolume': 23130570, 'divCash': 0.0, 'splitFactor': 1.0}, {'date': '2019-01-24T00:00:00.000Z', 'close': 152.7, 'high': 154.48, 'low': 151.74, 'open': 154.11, 'volume': 25441549, 'adjClose': 152.0486560711, 'adjHigh': 153.8210634568, 'adjLow': 151.0927509641, 'adjOpen': 153.4526416969, 'adjVolume': 25441549, 'divCash': 0.0, 'splitFactor': 1.0}, {'date': '2019-01-25T00:00:00.000Z', 'close': 157.76, 'high': 158.13, 'low': 154.32, 'open': 155.48, 'volume': 33547893, 'adjClose': 157.0870725722, 'adjHigh': 157.4554943321, 'adjLow': 153.661745939, 'adjOpen': 154.8167979432, 'adjVolume': 33547893, 'divCash': 0.0, 'splitFactor': 1.0}, {'date': '2019-01-28T00:00:00.000Z', 'close': 156.3, 'high': 156.33, 'low': 153.66, 'open': 155.79, 'volume': 26192058, 'adjClose': 155.633300222, 'adjHigh': 155.6631722566, 'adjLow': 153.004561178, 'adjOpen': 155.125475634, 'adjVolume': 26192058, 'divCash': 0.0, 'splitFactor': 1.0}, {'date': '2019-01-29T00:00:00.000Z', 'close': 154.68, 'high': 158.13, 'low': 154.11, 'open': 156.25, 'volume': 41587239, 'adjClose': 154.0202103541, 'adjHigh': 157.4554943321, 'adjLow': 153.4526416969, 'adjOpen': 155.5835134977, 'adjVolume': 41587239, 'divCash': 0.0, 'splitFactor': 1.0}, {'date': '2019-01-30T00:00:00.000Z', 'close': 165.25, 'high': 166.15, 'low': 160.23, 'open': 163.25, 'volume': 61109780, 'adjClose': 164.5451238752, 'adjHigh': 165.4412849129, 'adjLow': 159.5465367535, 'adjOpen': 162.5536549024, 'adjVolume': 61109780, 'divCash': 0.0, 'splitFactor': 1.0}, {'date': '2019-01-31T00:00:00.000Z', 'close': 166.44, 'high': 169.0, 'low': 164.56, 'open': 166.11, 'volume': 40739649, 'adjClose': 165.730047914, 'adjHigh': 168.2791281991, 'adjLow': 163.8580670796, 'adjOpen': 165.4014555335, 'adjVolume': 40739649, 'divCash': 0.0, 'splitFactor': 1.0}, {'date': '2019-02-01T00:00:00.000Z', 'close': 166.52, 'high': 168.98, 'low': 165.93, 'open': 166.96, 'volume': 32668138, 'adjClose': 165.8097066729, 'adjHigh': 168.2592135094, 'adjLow': 165.2222233259, 'adjOpen': 166.2478298469, 'adjVolume': 32668138, 'divCash': 0.0, 'splitFactor': 1.0}, {'date': '2019-02-04T00:00:00.000Z', 'close': 171.25, 'high': 171.655, 'low': 167.28, 'open': 167.41, 'volume': 31495582, 'adjClose': 170.5195307935, 'adjHigh': 170.9228032605, 'adjLow': 166.5664648826, 'adjOpen': 166.6959103658, 'adjVolume': 31495582, 'divCash': 0.0, 'splitFactor': 1.0}, {'date': '2019-02-05T00:00:00.000Z', 'close': 174.18, 'high': 175.08, 'low': 172.3501, 'open': 172.86, 'volume': 36101628, 'adjClose': 173.4370328386, 'adjHigh': 174.3331938764, 'adjLow': 171.614938302, 'adjOpen': 172.1226633166, 'adjVolume': 36101628, 'divCash': 0.0, 'splitFactor': 1.0}, {'date': '2019-02-06T00:00:00.000Z', 'close': 174.24, 'high': 175.57, 'low': 172.8531, 'open': 174.65, 'volume': 28239591, 'adjClose': 173.4967769078, 'adjHigh': 174.8211037747, 'adjLow': 172.1157927486, 'adjOpen': 173.9050280472, 'adjVolume': 28239591, 'divCash': 0.0, 'splitFactor': 1.0}, {'date': '2019-02-07T00:00:00.000Z', 'close': 170.94, 'high': 173.94, 'low': 170.34, 'open': 172.4, 'volume': 31741690, 'adjClose': 170.2108531027, 'adjHigh': 173.1980565619, 'adjLow': 169.6134124109, 'adjOpen': 171.6646254528, 'adjVolume': 31741690, 'divCash': 0.0, 'splitFactor': 1.0}, {'date': '2019-02-08T00:00:00.000Z', 'close': 170.41, 'high': 170.66, 'low': 168.42, 'open': 168.99, 'volume': 23819966, 'adjClose': 170.41, 'adjHigh': 170.66, 'adjLow': 168.42, 'adjOpen': 168.99, 'adjVolume': 23819966, 'divCash': 0.73, 'splitFactor': 1.0}, {'date': '2019-02-11T00:00:00.000Z', 'close': 169.43, 'high': 171.21, 'low': 169.25, 'open': 171.05, 'volume': 20993425, 'adjClose': 169.43, 'adjHigh': 171.21, 'adjLow': 169.25, 'adjOpen': 171.05, 'adjVolume': 20993425, 'divCash': 0.0, 'splitFactor': 1.0}, {'date': '2019-02-12T00:00:00.000Z', 'close': 170.89, 'high': 171.0, 'low': 169.7, 'open': 170.1, 'volume': 22283523, 'adjClose': 170.89, 'adjHigh': 171.0, 'adjLow': 169.7, 'adjOpen': 170.1, 'adjVolume': 22283523, 'divCash': 0.0, 'splitFactor': 1.0}, {'date': '2019-02-13T00:00:00.000Z', 'close': 170.18, 'high': 172.48, 'low': 169.92, 'open': 171.39, 'volume': 22490233, 'adjClose': 170.18, 'adjHigh': 172.48, 'adjLow': 169.92, 'adjOpen': 171.39, 'adjVolume': 22490233, 'divCash': 0.0, 'splitFactor': 1.0}, {'date': '2019-02-14T00:00:00.000Z', 'close': 170.8, 'high': 171.2615, 'low': 169.38, 'open': 169.71, 'volume': 21835747, 'adjClose': 170.8, 'adjHigh': 171.2615, 'adjLow': 169.38, 'adjOpen': 169.71, 'adjVolume': 21835747, 'divCash': 0.0, 'splitFactor': 1.0}, {'date': '2019-02-15T00:00:00.000Z', 'close': 170.42, 'high': 171.7, 'low': 169.75, 'open': 171.25, 'volume': 24626814, 'adjClose': 170.42, 'adjHigh': 171.7, 'adjLow': 169.75, 'adjOpen': 171.25, 'adjVolume': 24626814, 'divCash': 0.0, 'splitFactor': 1.0}, {'date': '2019-02-19T00:00:00.000Z', 'close': 170.93, 'high': 171.44, 'low': 169.49, 'open': 169.71, 'volume': 18972826, 'adjClose': 170.93, 'adjHigh': 171.44, 'adjLow': 169.49, 'adjOpen': 169.71, 'adjVolume': 18972826, 'divCash': 0.0, 'splitFactor': 1.0}, {'date': '2019-02-20T00:00:00.000Z', 'close': 172.03, 'high': 173.32, 'low': 170.99, 'open': 171.19, 'volume': 26114362, 'adjClose': 172.03, 'adjHigh': 173.32, 'adjLow': 170.99, 'adjOpen': 171.19, 'adjVolume': 26114362, 'divCash': 0.0, 'splitFactor': 1.0}, {'date': '2019-02-21T00:00:00.000Z', 'close': 171.06, 'high': 172.37, 'low': 170.3, 'open': 171.8, 'volume': 17249670, 'adjClose': 171.06, 'adjHigh': 172.37, 'adjLow': 170.3, 'adjOpen': 171.8, 'adjVolume': 17249670, 'divCash': 0.0, 'splitFactor': 1.0}, {'date': '2019-02-22T00:00:00.000Z', 'close': 172.97, 'high': 173.0, 'low': 171.38, 'open': 171.58, 'volume': 18913154, 'adjClose': 172.97, 'adjHigh': 173.0, 'adjLow': 171.38, 'adjOpen': 171.58, 'adjVolume': 18913154, 'divCash': 0.0, 'splitFactor': 1.0}, {'date': '2019-02-25T00:00:00.000Z', 'close': 174.23, 'high': 175.87, 'low': 173.95, 'open': 174.16, 'volume': 21873358, 'adjClose': 174.23, 'adjHigh': 175.87, 'adjLow': 173.95, 'adjOpen': 174.16, 'adjVolume': 21873358, 'divCash': 0.0, 'splitFactor': 1.0}, {'date': '2019-02-26T00:00:00.000Z', 'close': 174.33, 'high': 175.3, 'low': 173.1732, 'open': 173.71, 'volume': 17070211, 'adjClose': 174.33, 'adjHigh': 175.3, 'adjLow': 173.1732, 'adjOpen': 173.71, 'adjVolume': 17070211, 'divCash': 0.0, 'splitFactor': 1.0}, {'date': '2019-02-27T00:00:00.000Z', 'close': 174.87, 'high': 175.0, 'low': 172.73, 'open': 173.21, 'volume': 27835389, 'adjClose': 174.87, 'adjHigh': 175.0, 'adjLow': 172.73, 'adjOpen': 173.21, 'adjVolume': 27835389, 'divCash': 0.0, 'splitFactor': 1.0}, {'date': '2019-02-28T00:00:00.000Z', 'close': 173.15, 'high': 174.91, 'low': 172.92, 'open': 174.32, 'volume': 28215416, 'adjClose': 173.15, 'adjHigh': 174.91, 'adjLow': 172.92, 'adjOpen': 174.32, 'adjVolume': 28215416, 'divCash': 0.0, 'splitFactor': 1.0}, {'date': '2019-03-01T00:00:00.000Z', 'close': 174.97, 'high': 175.15, 'low': 172.89, 'open': 174.28, 'volume': 25886167, 'adjClose': 174.97, 'adjHigh': 175.15, 'adjLow': 172.89, 'adjOpen': 174.28, 'adjVolume': 25886167, 'divCash': 0.0, 'splitFactor': 1.0}, {'date': '2019-03-04T00:00:00.000Z', 'close': 175.85, 'high': 177.75, 'low': 173.97, 'open': 175.69, 'volume': 27436203, 'adjClose': 175.85, 'adjHigh': 177.75, 'adjLow': 173.97, 'adjOpen': 175.69, 'adjVolume': 27436203, 'divCash': 0.0, 'splitFactor': 1.0}, {'date': '2019-03-05T00:00:00.000Z', 'close': 175.53, 'high': 176.0, 'low': 174.54, 'open': 175.94, 'volume': 19737419, 'adjClose': 175.53, 'adjHigh': 176.0, 'adjLow': 174.54, 'adjOpen': 175.94, 'adjVolume': 19737419, 'divCash': 0.0, 'splitFactor': 1.0}, {'date': '2019-03-06T00:00:00.000Z', 'close': 174.52, 'high': 175.49, 'low': 173.94, 'open': 174.67, 'volume': 20810384, 'adjClose': 174.52, 'adjHigh': 175.49, 'adjLow': 173.94, 'adjOpen': 174.67, 'adjVolume': 20810384, 'divCash': 0.0, 'splitFactor': 1.0}, {'date': '2019-03-07T00:00:00.000Z', 'close': 172.5, 'high': 174.44, 'low': 172.02, 'open': 173.87, 'volume': 24796374, 'adjClose': 172.5, 'adjHigh': 174.44, 'adjLow': 172.02, 'adjOpen': 173.87, 'adjVolume': 24796374, 'divCash': 0.0, 'splitFactor': 1.0}, {'date': '2019-03-08T00:00:00.000Z', 'close': 172.91, 'high': 173.07, 'low': 169.5, 'open': 170.32, 'volume': 23999358, 'adjClose': 172.91, 'adjHigh': 173.07, 'adjLow': 169.5, 'adjOpen': 170.32, 'adjVolume': 23999358, 'divCash': 0.0, 'splitFactor': 1.0}, {'date': '2019-03-11T00:00:00.000Z', 'close': 178.9, 'high': 179.12, 'low': 175.35, 'open': 175.49, 'volume': 32011034, 'adjClose': 178.9, 'adjHigh': 179.12, 'adjLow': 175.35, 'adjOpen': 175.49, 'adjVolume': 32011034, 'divCash': 0.0, 'splitFactor': 1.0}, {'date': '2019-03-12T00:00:00.000Z', 'close': 180.91, 'high': 182.67, 'low': 179.37, 'open': 180.0, 'volume': 32467584, 'adjClose': 180.91, 'adjHigh': 182.67, 'adjLow': 179.37, 'adjOpen': 180.0, 'adjVolume': 32467584, 'divCash': 0.0, 'splitFactor': 1.0}, {'date': '2019-03-13T00:00:00.000Z', 'close': 181.71, 'high': 183.3, 'low': 180.92, 'open': 182.25, 'volume': 31032524, 'adjClose': 181.71, 'adjHigh': 183.3, 'adjLow': 180.92, 'adjOpen': 182.25, 'adjVolume': 31032524, 'divCash': 0.0, 'splitFactor': 1.0}, {'date': '2019-03-14T00:00:00.000Z', 'close': 183.73, 'high': 184.1, 'low': 182.56, 'open': 183.9, 'volume': 23579508, 'adjClose': 183.73, 'adjHigh': 184.1, 'adjLow': 182.56, 'adjOpen': 183.9, 'adjVolume': 23579508, 'divCash': 0.0, 'splitFactor': 1.0}, {'date': '2019-03-15T00:00:00.000Z', 'close': 186.12, 'high': 187.33, 'low': 183.74, 'open': 184.85, 'volume': 39042912, 'adjClose': 186.12, 'adjHigh': 187.33, 'adjLow': 183.74, 'adjOpen': 184.85, 'adjVolume': 39042912, 'divCash': 0.0, 'splitFactor': 1.0}, {'date': '2019-03-18T00:00:00.000Z', 'close': 188.02, 'high': 188.39, 'low': 185.79, 'open': 185.8, 'volume': 26219832, 'adjClose': 188.02, 'adjHigh': 188.39, 'adjLow': 185.79, 'adjOpen': 185.8, 'adjVolume': 26219832, 'divCash': 0.0, 'splitFactor': 1.0}, {'date': '2019-03-19T00:00:00.000Z', 'close': 186.53, 'high': 188.99, 'low': 185.92, 'open': 188.35, 'volume': 31646369, 'adjClose': 186.53, 'adjHigh': 188.99, 'adjLow': 185.92, 'adjOpen': 188.35, 'adjVolume': 31646369, 'divCash': 0.0, 'splitFactor': 1.0}, {'date': '2019-03-20T00:00:00.000Z', 'close': 188.16, 'high': 189.49, 'low': 184.73, 'open': 186.23, 'volume': 31035231, 'adjClose': 188.16, 'adjHigh': 189.49, 'adjLow': 184.73, 'adjOpen': 186.23, 'adjVolume': 31035231, 'divCash': 0.0, 'splitFactor': 1.0}, {'date': '2019-03-21T00:00:00.000Z', 'close': 195.09, 'high': 196.33, 'low': 189.81, 'open': 190.02, 'volume': 51034237, 'adjClose': 195.09, 'adjHigh': 196.33, 'adjLow': 189.81, 'adjOpen': 190.02, 'adjVolume': 51034237, 'divCash': 0.0, 'splitFactor': 1.0}, {'date': '2019-03-22T00:00:00.000Z', 'close': 191.05, 'high': 197.69, 'low': 190.78, 'open': 195.34, 'volume': 42407666, 'adjClose': 191.05, 'adjHigh': 197.69, 'adjLow': 190.78, 'adjOpen': 195.34, 'adjVolume': 42407666, 'divCash': 0.0, 'splitFactor': 1.0}, {'date': '2019-03-25T00:00:00.000Z', 'close': 188.74, 'high': 191.98, 'low': 186.6, 'open': 191.51, 'volume': 43845293, 'adjClose': 188.74, 'adjHigh': 191.98, 'adjLow': 186.6, 'adjOpen': 191.51, 'adjVolume': 43845293, 'divCash': 0.0, 'splitFactor': 1.0}, {'date': '2019-03-26T00:00:00.000Z', 'close': 186.79, 'high': 192.88, 'low': 184.58, 'open': 191.664, 'volume': 49800538, 'adjClose': 186.79, 'adjHigh': 192.88, 'adjLow': 184.58, 'adjOpen': 191.664, 'adjVolume': 49800538, 'divCash': 0.0, 'splitFactor': 1.0}, {'date': '2019-03-27T00:00:00.000Z', 'close': 188.47, 'high': 189.76, 'low': 186.55, 'open': 188.75, 'volume': 29848427, 'adjClose': 188.47, 'adjHigh': 189.76, 'adjLow': 186.55, 'adjOpen': 188.75, 'adjVolume': 29848427, 'divCash': 0.0, 'splitFactor': 1.0}, {'date': '2019-03-28T00:00:00.000Z', 'close': 188.72, 'high': 189.559, 'low': 187.53, 'open': 188.95, 'volume': 20780363, 'adjClose': 188.72, 'adjHigh': 189.559, 'adjLow': 187.53, 'adjOpen': 188.95, 'adjVolume': 20780363, 'divCash': 0.0, 'splitFactor': 1.0}, {'date': '2019-03-29T00:00:00.000Z', 'close': 189.95, 'high': 190.08, 'low': 188.54, 'open': 189.83, 'volume': 23563961, 'adjClose': 189.95, 'adjHigh': 190.08, 'adjLow': 188.54, 'adjOpen': 189.83, 'adjVolume': 23563961, 'divCash': 0.0, 'splitFactor': 1.0}, {'date': '2019-04-01T00:00:00.000Z', 'close': 191.24, 'high': 191.68, 'low': 188.38, 'open': 191.64, 'volume': 27861964, 'adjClose': 191.24, 'adjHigh': 191.68, 'adjLow': 188.38, 'adjOpen': 191.64, 'adjVolume': 27861964, 'divCash': 0.0, 'splitFactor': 1.0}, {'date': '2019-04-02T00:00:00.000Z', 'close': 194.02, 'high': 194.46, 'low': 191.05, 'open': 191.09, 'volume': 22765732, 'adjClose': 194.02, 'adjHigh': 194.46, 'adjLow': 191.05, 'adjOpen': 191.09, 'adjVolume': 22765732, 'divCash': 0.0, 'splitFactor': 1.0}, {'date': '2019-04-03T00:00:00.000Z', 'close': 195.35, 'high': 196.5, 'low': 193.15, 'open': 193.25, 'volume': 23271830, 'adjClose': 195.35, 'adjHigh': 196.5, 'adjLow': 193.15, 'adjOpen': 193.25, 'adjVolume': 23271830, 'divCash': 0.0, 'splitFactor': 1.0}, {'date': '2019-04-04T00:00:00.000Z', 'close': 195.69, 'high': 196.37, 'low': 193.14, 'open': 194.79, 'volume': 19114275, 'adjClose': 195.69, 'adjHigh': 196.37, 'adjLow': 193.14, 'adjOpen': 194.79, 'adjVolume': 19114275, 'divCash': 0.0, 'splitFactor': 1.0}, {'date': '2019-04-05T00:00:00.000Z', 'close': 197.0, 'high': 197.1, 'low': 195.93, 'open': 196.45, 'volume': 18526644, 'adjClose': 197.0, 'adjHigh': 197.1, 'adjLow': 195.93, 'adjOpen': 196.45, 'adjVolume': 18526644, 'divCash': 0.0, 'splitFactor': 1.0}, {'date': '2019-04-08T00:00:00.000Z', 'close': 200.1, 'high': 200.23, 'low': 196.34, 'open': 196.42, 'volume': 25881697, 'adjClose': 200.1, 'adjHigh': 200.23, 'adjLow': 196.34, 'adjOpen': 196.42, 'adjVolume': 25881697, 'divCash': 0.0, 'splitFactor': 1.0}, {'date': '2019-04-09T00:00:00.000Z', 'close': 199.5, 'high': 202.85, 'low': 199.23, 'open': 200.32, 'volume': 35768237, 'adjClose': 199.5, 'adjHigh': 202.85, 'adjLow': 199.23, 'adjOpen': 200.32, 'adjVolume': 35768237, 'divCash': 0.0, 'splitFactor': 1.0}, {'date': '2019-04-10T00:00:00.000Z', 'close': 200.62, 'high': 200.74, 'low': 198.18, 'open': 198.68, 'volume': 21695288, 'adjClose': 200.62, 'adjHigh': 200.74, 'adjLow': 198.18, 'adjOpen': 198.68, 'adjVolume': 21695288, 'divCash': 0.0, 'splitFactor': 1.0}, {'date': '2019-04-11T00:00:00.000Z', 'close': 198.95, 'high': 201.0, 'low': 198.4431, 'open': 200.85, 'volume': 20900808, 'adjClose': 198.95, 'adjHigh': 201.0, 'adjLow': 198.4431, 'adjOpen': 200.85, 'adjVolume': 20900808, 'divCash': 0.0, 'splitFactor': 1.0}, {'date': '2019-04-12T00:00:00.000Z', 'close': 198.87, 'high': 200.14, 'low': 196.21, 'open': 199.2, 'volume': 27760668, 'adjClose': 198.87, 'adjHigh': 200.14, 'adjLow': 196.21, 'adjOpen': 199.2, 'adjVolume': 27760668, 'divCash': 0.0, 'splitFactor': 1.0}, {'date': '2019-04-15T00:00:00.000Z', 'close': 199.23, 'high': 199.85, 'low': 198.01, 'open': 198.58, 'volume': 17536646, 'adjClose': 199.23, 'adjHigh': 199.85, 'adjLow': 198.01, 'adjOpen': 198.58, 'adjVolume': 17536646, 'divCash': 0.0, 'splitFactor': 1.0}, {'date': '2019-04-16T00:00:00.000Z', 'close': 199.25, 'high': 201.37, 'low': 198.56, 'open': 199.46, 'volume': 25696385, 'adjClose': 199.25, 'adjHigh': 201.37, 'adjLow': 198.56, 'adjOpen': 199.46, 'adjVolume': 25696385, 'divCash': 0.0, 'splitFactor': 1.0}, {'date': '2019-04-17T00:00:00.000Z', 'close': 203.13, 'high': 203.38, 'low': 198.61, 'open': 199.54, 'volume': 28906780, 'adjClose': 203.13, 'adjHigh': 203.38, 'adjLow': 198.61, 'adjOpen': 199.54, 'adjVolume': 28906780, 'divCash': 0.0, 'splitFactor': 1.0}, {'date': '2019-04-18T00:00:00.000Z', 'close': 203.86, 'high': 204.15, 'low': 202.52, 'open': 203.12, 'volume': 24195766, 'adjClose': 203.86, 'adjHigh': 204.15, 'adjLow': 202.52, 'adjOpen': 203.12, 'adjVolume': 24195766, 'divCash': 0.0, 'splitFactor': 1.0}, {'date': '2019-04-22T00:00:00.000Z', 'close': 204.53, 'high': 204.94, 'low': 202.34, 'open': 202.83, 'volume': 19439545, 'adjClose': 204.53, 'adjHigh': 204.94, 'adjLow': 202.34, 'adjOpen': 202.83, 'adjVolume': 19439545, 'divCash': 0.0, 'splitFactor': 1.0}, {'date': '2019-04-23T00:00:00.000Z', 'close': 207.48, 'high': 207.75, 'low': 203.9, 'open': 204.43, 'volume': 23322991, 'adjClose': 207.48, 'adjHigh': 207.75, 'adjLow': 203.9, 'adjOpen': 204.43, 'adjVolume': 23322991, 'divCash': 0.0, 'splitFactor': 1.0}, {'date': '2019-04-24T00:00:00.000Z', 'close': 207.16, 'high': 208.48, 'low': 207.05, 'open': 207.36, 'volume': 17540609, 'adjClose': 207.16, 'adjHigh': 208.48, 'adjLow': 207.05, 'adjOpen': 207.36, 'adjVolume': 17540609, 'divCash': 0.0, 'splitFactor': 1.0}, {'date': '2019-04-25T00:00:00.000Z', 'close': 205.28, 'high': 207.76, 'low': 205.12, 'open': 206.83, 'volume': 18543206, 'adjClose': 205.28, 'adjHigh': 207.76, 'adjLow': 205.12, 'adjOpen': 206.83, 'adjVolume': 18543206, 'divCash': 0.0, 'splitFactor': 1.0}, {'date': '2019-04-26T00:00:00.000Z', 'close': 204.3, 'high': 205.0, 'low': 202.12, 'open': 204.9, 'volume': 18649102, 'adjClose': 204.3, 'adjHigh': 205.0, 'adjLow': 202.12, 'adjOpen': 204.9, 'adjVolume': 18649102, 'divCash': 0.0, 'splitFactor': 1.0}, {'date': '2019-04-29T00:00:00.000Z', 'close': 204.61, 'high': 205.97, 'low': 203.86, 'open': 204.4, 'volume': 22204716, 'adjClose': 204.61, 'adjHigh': 205.97, 'adjLow': 203.86, 'adjOpen': 204.4, 'adjVolume': 22204716, 'divCash': 0.0, 'splitFactor': 1.0}, {'date': '2019-04-30T00:00:00.000Z', 'close': 200.67, 'high': 203.4, 'low': 199.11, 'open': 203.06, 'volume': 46534923, 'adjClose': 200.67, 'adjHigh': 203.4, 'adjLow': 199.11, 'adjOpen': 203.06, 'adjVolume': 46534923, 'divCash': 0.0, 'splitFactor': 1.0}, {'date': '2019-05-01T00:00:00.000Z', 'close': 210.52, 'high': 215.31, 'low': 209.23, 'open': 209.88, 'volume': 64827328, 'adjClose': 210.52, 'adjHigh': 215.31, 'adjLow': 209.23, 'adjOpen': 209.88, 'adjVolume': 64827328, 'divCash': 0.0, 'splitFactor': 1.0}]\n"
     ]
    }
   ],
   "source": [
    "response = get_stock_data('AAPL', '2019-1-1', '2019-5-2')\n",
    "print(response.url)\n",
    "print(response.json())"
   ]
  },
  {
   "cell_type": "code",
   "execution_count": 7,
   "metadata": {},
   "outputs": [],
   "source": [
    "def parse_data(data_response):\n",
    "    json_data = data_response.json()\n",
    "    dates = []\n",
    "    closes =[]\n",
    "    opens = []\n",
    "    highs = []\n",
    "    lows = []\n",
    "    vols = []\n",
    "    for json_object in json_data:\n",
    "        dates.append(json_object['date'])\n",
    "        closes.append(json_object['close'])\n",
    "        opens.append(json_object['open'])\n",
    "        highs.append(json_object['high'])\n",
    "        lows.append(json_object['low'])\n",
    "        vols.append(json_object['volume'])\n",
    "    return dates, closes, opens, highs, lows, vols"
   ]
  },
  {
   "cell_type": "code",
   "execution_count": 8,
   "metadata": {},
   "outputs": [
    {
     "name": "stdout",
     "output_type": "stream",
     "text": [
      "['2019-01-02T00:00:00.000Z', '2019-01-03T00:00:00.000Z', '2019-01-04T00:00:00.000Z', '2019-01-07T00:00:00.000Z', '2019-01-08T00:00:00.000Z', '2019-01-09T00:00:00.000Z', '2019-01-10T00:00:00.000Z', '2019-01-11T00:00:00.000Z', '2019-01-14T00:00:00.000Z', '2019-01-15T00:00:00.000Z', '2019-01-16T00:00:00.000Z', '2019-01-17T00:00:00.000Z', '2019-01-18T00:00:00.000Z', '2019-01-22T00:00:00.000Z', '2019-01-23T00:00:00.000Z', '2019-01-24T00:00:00.000Z', '2019-01-25T00:00:00.000Z', '2019-01-28T00:00:00.000Z', '2019-01-29T00:00:00.000Z', '2019-01-30T00:00:00.000Z', '2019-01-31T00:00:00.000Z', '2019-02-01T00:00:00.000Z', '2019-02-04T00:00:00.000Z', '2019-02-05T00:00:00.000Z', '2019-02-06T00:00:00.000Z', '2019-02-07T00:00:00.000Z', '2019-02-08T00:00:00.000Z', '2019-02-11T00:00:00.000Z', '2019-02-12T00:00:00.000Z', '2019-02-13T00:00:00.000Z', '2019-02-14T00:00:00.000Z', '2019-02-15T00:00:00.000Z', '2019-02-19T00:00:00.000Z', '2019-02-20T00:00:00.000Z', '2019-02-21T00:00:00.000Z', '2019-02-22T00:00:00.000Z', '2019-02-25T00:00:00.000Z', '2019-02-26T00:00:00.000Z', '2019-02-27T00:00:00.000Z', '2019-02-28T00:00:00.000Z', '2019-03-01T00:00:00.000Z', '2019-03-04T00:00:00.000Z', '2019-03-05T00:00:00.000Z', '2019-03-06T00:00:00.000Z', '2019-03-07T00:00:00.000Z', '2019-03-08T00:00:00.000Z', '2019-03-11T00:00:00.000Z', '2019-03-12T00:00:00.000Z', '2019-03-13T00:00:00.000Z', '2019-03-14T00:00:00.000Z', '2019-03-15T00:00:00.000Z', '2019-03-18T00:00:00.000Z', '2019-03-19T00:00:00.000Z', '2019-03-20T00:00:00.000Z', '2019-03-21T00:00:00.000Z', '2019-03-22T00:00:00.000Z', '2019-03-25T00:00:00.000Z', '2019-03-26T00:00:00.000Z', '2019-03-27T00:00:00.000Z', '2019-03-28T00:00:00.000Z', '2019-03-29T00:00:00.000Z', '2019-04-01T00:00:00.000Z', '2019-04-02T00:00:00.000Z', '2019-04-03T00:00:00.000Z', '2019-04-04T00:00:00.000Z', '2019-04-05T00:00:00.000Z', '2019-04-08T00:00:00.000Z', '2019-04-09T00:00:00.000Z', '2019-04-10T00:00:00.000Z', '2019-04-11T00:00:00.000Z', '2019-04-12T00:00:00.000Z', '2019-04-15T00:00:00.000Z', '2019-04-16T00:00:00.000Z', '2019-04-17T00:00:00.000Z', '2019-04-18T00:00:00.000Z', '2019-04-22T00:00:00.000Z', '2019-04-23T00:00:00.000Z', '2019-04-24T00:00:00.000Z', '2019-04-25T00:00:00.000Z', '2019-04-26T00:00:00.000Z', '2019-04-29T00:00:00.000Z', '2019-04-30T00:00:00.000Z', '2019-05-01T00:00:00.000Z']\n"
     ]
    }
   ],
   "source": [
    "dates, closes, opens, highs, lows, vols = parse_data(response)\n",
    "print(dates)\n"
   ]
  },
  {
   "cell_type": "code",
   "execution_count": 19,
   "metadata": {},
   "outputs": [],
   "source": [
    "def calculate_price_difference(opens, closes):\n",
    "    price_differences = []\n",
    "    for i in range(len(opens) - 1):\n",
    "        if opens[i + 1] >= closes[i]:\n",
    "            price_differences.append([1, 0])\n",
    "        else:\n",
    "            price_differences.append([0, 1])\n",
    "    return price_differences"
   ]
  },
  {
   "cell_type": "code",
   "execution_count": 20,
   "metadata": {},
   "outputs": [],
   "source": [
    "price_differences = calculate_price_difference(opens, closes)\n",
    "differences = []\n",
    "for difference in price_differences:\n",
    "    differences.append(difference[0])"
   ]
  },
  {
   "cell_type": "code",
   "execution_count": 22,
   "metadata": {},
   "outputs": [
    {
     "data": {
      "image/png": "[encoded data removed]",
      "text/plain": [
       "<Figure size 432x288 with 1 Axes>"
      ]
     },
     "metadata": {
      "needs_background": "light"
     },
     "output_type": "display_data"
    }
   ],
   "source": [
    "import matplotlib.pyplot as plt\n",
    "\n",
    "plt.plot(dates[1:], opens[1:])\n",
    "plt.plot(dates[1:], closes[:-1])\n",
    "plt.show()"
   ]
  },
  {
   "cell_type": "code",
   "execution_count": 23,
   "metadata": {},
   "outputs": [
    {
     "data": {
      "image/png": "[encoded data removed]",
      "text/plain": [
       "<Figure size 432x288 with 1 Axes>"
      ]
     },
     "metadata": {
      "needs_background": "light"
     },
     "output_type": "display_data"
    }
   ],
   "source": [
    "plt.plot(dates[1:], differences)\n",
    "plt.show()"
   ]
  },
  {
   "cell_type": "code",
   "execution_count": 24,
   "metadata": {},
   "outputs": [],
   "source": [
    "def create_datasets(stock_symbol, start_date, end_date):\n",
    "    response = get_stock_data(stock_symbol, start_date, end_date)\n",
    "    dates, closes, opens, highs, lows, vols = parse_data(response)\n",
    "    \n",
    "    labels = calculate_price_difference(opens, closes)\n",
    "    \n",
    "    inputs = []\n",
    "    for i in range(len(labels)):\n",
    "        inputs.append([closes[i], opens[i], highs[i], lows[i], vols[i]/1000])\n",
    "    \n",
    "    return inputs, labels"
   ]
  },
  {
   "cell_type": "code",
   "execution_count": 25,
   "metadata": {},
   "outputs": [],
   "source": [
    "x_train, y_train = create_datasets('AAPL', '2018-1-1', '2019-4-1')\n",
    "x_test, y_test = create_datasets('AAPL', '2019-4-1', '2019-5-2')"
   ]
  },
  {
   "cell_type": "code",
   "execution_count": 26,
   "metadata": {},
   "outputs": [],
   "source": [
    "# y = Wx + b\n",
    "import tensorflow as tf"
   ]
  },
  {
   "cell_type": "code",
   "execution_count": 27,
   "metadata": {},
   "outputs": [
    {
     "name": "stdout",
     "output_type": "stream",
     "text": [
      "WARNING:tensorflow:From /Users/owl/anaconda3/lib/python3.6/site-packages/tensorflow/python/framework/op_def_library.py:263: colocate_with (from tensorflow.python.framework.ops) is deprecated and will be removed in a future version.\n",
      "Instructions for updating:\n",
      "Colocations handled automatically by placer.\n"
     ]
    }
   ],
   "source": [
    "x_input = tf.placeholder(dtype=tf.float32, shape=[None, 5])\n",
    "y_input = tf.placeholder(dtype=tf.float32, shape=[None, 2])\n",
    "W = tf.Variable(initial_value=tf.ones(shape=[5, 2]))\n",
    "b = tf.Variable(initial_value=tf.ones(shape=[2]))\n",
    "y_output = tf.add(tf.matmul(x_input, W), b)"
   ]
  },
  {
   "cell_type": "code",
   "execution_count": 32,
   "metadata": {},
   "outputs": [],
   "source": [
    "loss = tf.reduce_sum(tf.reduce_mean(\n",
    "    tf.nn.softmax_cross_entropy_with_logits_v2(\n",
    "        labels=y_input, logits=y_output)))\n",
    "optimizer = tf.train.GradientDescentOptimizer(0.01)\n",
    "train_step = optimizer.minimize(loss)"
   ]
  },
  {
   "cell_type": "code",
   "execution_count": 33,
   "metadata": {},
   "outputs": [],
   "source": [
    "def measure_accuracy(actual, expected):\n",
    "    num_correct = 0\n",
    "    for i in range(len(actual)):\n",
    "        actual_value = actual[i]\n",
    "        expected_value = expected[i]\n",
    "        if actual_value[0] >= actual_value[1] and expected_value[0] >= expected_value[1]:\n",
    "            num_correct += 1\n",
    "        elif actual_value[0] <= actual_value[1] and expected_value[0] <= expected_value[1]:\n",
    "            num_correct += 1\n",
    "    return (num_correct / len(actual)) * 100"
   ]
  },
  {
   "cell_type": "code",
   "execution_count": 34,
   "metadata": {},
   "outputs": [],
   "source": [
    "session = tf.Session()\n",
    "session.run(tf.global_variables_initializer())"
   ]
  },
  {
   "cell_type": "code",
   "execution_count": 35,
   "metadata": {},
   "outputs": [
    {
     "name": "stdout",
     "output_type": "stream",
     "text": [
      "56.043956043956044\n"
     ]
    }
   ],
   "source": [
    "for _ in range(20000):\n",
    "    session.run(train_step, feed_dict={x_input: x_train, y_input: y_train})\n",
    "print(measure_accuracy(session.run(\n",
    "    y_output, feed_dict={x_input: x_test}), y_test))"
   ]
  },
  {
   "cell_type": "code",
   "execution_count": 37,
   "metadata": {},
   "outputs": [
    {
     "name": "stdout",
     "output_type": "stream",
     "text": [
      "[[  6104632.   -6028121.5]\n",
      " [  4956441.5  -4894545.5]\n",
      " [  5637726.5  -5567168. ]\n",
      " [  4437242.5  -4381991.5]\n",
      " [  5702451.   -5631079.5]\n",
      " [  4762265.   -4702863. ]\n",
      " [  4701472.5  -4642859.5]\n",
      " [  3729325.2  -3683080.2]\n",
      " [  3802820.8  -3755650. ]\n",
      " [  4155144.2  -4103496.2]\n",
      " [  3598647.   -3554085.2]\n",
      " [  4391173.5  -4336541.5]\n",
      " [  3471947.5  -3429014.8]\n",
      " [  5676226.   -5605215.5]\n",
      " [ 10491762.  -10359434. ]\n",
      " [  5934807.5  -5860449.5]\n",
      " [  5488991.5  -5420294.5]\n",
      " [  4653877.5  -4595804.5]\n",
      " [  4588985.5  -4531743.5]\n",
      " [  5796213.5  -5723599. ]\n",
      " [  6862099.5  -6775931. ]\n",
      " [  8617234.   -8508756. ]\n",
      " [ 10665548.  -10531063. ]\n",
      " [  5562487.   -5492941. ]\n",
      " [  9047026.   -8933174. ]\n",
      " [  6891299.   -6804910.5]\n",
      " [  4682751.5  -4624463.5]\n",
      " [  3868454.8  -3820538. ]\n",
      " [  4622173.5  -4564682.5]\n",
      " [  4342772.   -4288835.5]\n",
      " [  3488498.5  -3445430.5]\n",
      " [  3944162.   -3895280. ]\n",
      " [  3236014.   -3196149.2]\n",
      " [  2939538.   -2903448.2]\n",
      " [  3096457.5  -3058365.8]\n",
      " [  3113951.5  -3075645. ]\n",
      " [  2617092.   -2585107. ]\n",
      " [  3373665.5  -3332049.5]\n",
      " [  3873615.2  -3825642.2]\n",
      " [  2966927.2  -2930495.8]\n",
      " [  3760234.8  -3713703.2]\n",
      " [  3158956.8  -3120074.5]\n",
      " [  4540370.5  -4483907. ]\n",
      " [  3907689.5  -3859291. ]\n",
      " [  4355002.5  -4300932.5]\n",
      " [  3617582.2  -3572904. ]\n",
      " [  3518470.5  -3475055. ]\n",
      " [  3583614.   -3539370.2]\n",
      " [  4415332.   -4360488.5]\n",
      " [  3103263.   -3065115.5]\n",
      " [  2884447.8  -2849089.5]\n",
      " [  3627103.8  -3582293.2]\n",
      " [  3621982.8  -3577233.2]\n",
      " [  9923855.   -9798901. ]\n",
      " [  3127541.   -3089064. ]\n",
      " [  5496108.   -5427469. ]\n",
      " [  3462334.5  -3419584.2]\n",
      " [  4261299.5  -4208383. ]\n",
      " [  4494043.5  -4438158. ]\n",
      " [  5192285.   -5127495.5]\n",
      " [  4078936.8  -4028324.2]\n",
      " [  4192703.   -4140649.8]\n",
      " [  2947613.8  -2911402.8]\n",
      " [  3792516.2  -3745557. ]\n",
      " [  3005799.2  -2968851.8]\n",
      " [  2412598.   -2383200.8]\n",
      " [  2828508.2  -2793815.8]\n",
      " [  2968677.2  -2932211.5]\n",
      " [  3329498.2  -3288463.8]\n",
      " [  2730219.   -2696814.5]\n",
      " [  3182218.5  -3143046.8]\n",
      " [  3060240.5  -3022634.5]\n",
      " [  2193585.8  -2167014.8]\n",
      " [  2590266.2  -2558647.8]\n",
      " [  2666574.   -2633979.2]\n",
      " [  2802006.8  -2767690.5]\n",
      " [  3413938.8  -3371836.5]\n",
      " [  3480398.2  -3437453.2]\n",
      " [  2738504.5  -2704997. ]\n",
      " [  3166369.2  -3127430. ]\n",
      " [  2873433.8  -2838229.2]\n",
      " [  3227914.5  -3188204.8]\n",
      " [  4003437.8  -3953846. ]\n",
      " [  3530413.5  -3486827.5]\n",
      " [  6413170.5  -6332899.5]\n",
      " [ 10913462.  -10775992. ]\n",
      " [ 10049128.   -9922687. ]\n",
      " [  5501677.   -5433123.5]\n",
      " [  4242093.5  -4189574.8]\n",
      " [  4267312.   -4214471. ]\n",
      " [  3784030.2  -3737326.8]\n",
      " [  3938261.   -3889608.2]\n",
      " [  4113317.2  -4062432.5]\n",
      " [  4315805.5  -4262352. ]\n",
      " [  3508512.   -3465337.5]\n",
      " [  4775184.5  -4715891. ]\n",
      " [  4730400.   -4671697.5]\n",
      " [  5822558.   -5749979. ]\n",
      " [  5016431.   -4954119. ]\n",
      " [  4366238.   -4312191.5]\n",
      " [  3242739.2  -3202983. ]\n",
      " [  3222256.5  -3182765. ]\n",
      " [  3159167.   -3120483.8]\n",
      " [  3482776.2  -3439984.8]\n",
      " [  3839030.5  -3791719.5]\n",
      " [  4545182.   -4488899.5]\n",
      " [  7934251.5  -7834866. ]\n",
      " [  7080060.5  -6991561.5]\n",
      " [  4574252.5  -4517646. ]\n",
      " [  5507680.5  -5439193. ]\n",
      " [  5654350.   -5583973. ]\n",
      " [  6175152.5  -6098133.5]\n",
      " [  6469778.   -6388989.5]\n",
      " [  5879270.5  -5806006. ]\n",
      " [  8008000.5  -7907661.5]\n",
      " [  6820898.5  -6735684. ]\n",
      " [  5294626.5  -5228829.5]\n",
      " [  6105705.5  -6029553.5]\n",
      " [  5220391.5  -5155497.5]\n",
      " [  4520354.5  -4464362.5]\n",
      " [  4442339.5  -4387357.5]\n",
      " [ 15385859.  -15191612. ]\n",
      " [  4611016.   -4553877. ]\n",
      " [  4120293.2  -4069414.5]\n",
      " [  4030866.5  -3981126. ]\n",
      " [  5008863.   -4946702.5]\n",
      " [  3869572.   -3821911.2]\n",
      " [  3978212.2  -3929187.8]\n",
      " [  4165503.5  -4114099.8]\n",
      " [  4776824.5  -4717663. ]\n",
      " [  5306909.5  -5240989.5]\n",
      " [  5543785.5  -5474822. ]\n",
      " [  4925265.   -4864154.5]\n",
      " [  4492142.5  -4436559. ]\n",
      " [  6860514.5  -6774765. ]\n",
      " [  8603601.   -8495630. ]\n",
      " [  6600294.   -6517853.5]\n",
      " [  5098406.   -5035068. ]\n",
      " [  4846854.   -4786723.5]\n",
      " [  3858232.   -3810689. ]\n",
      " [  5376558.5  -5309661.5]\n",
      " [  5457564.   -5389654. ]\n",
      " [  4785806.5  -4726456. ]\n",
      " [  6351912.   -6272622.5]\n",
      " [  6690797.5  -6607194. ]\n",
      " [  4950900.   -4889436. ]\n",
      " [  7682906.   -7586658.5]\n",
      " [  7472576.5  -7378990.5]\n",
      " [  6012417.5  -5937399. ]\n",
      " [  6286497.5  -6208033.5]\n",
      " [  9426511.   -9308104. ]\n",
      " [ 14600811.  -14416482. ]\n",
      " [ 10637470.  -10503527. ]\n",
      " [  5250740.   -5185349. ]\n",
      " [  5498359.   -5429849. ]\n",
      " [  4232775.   -4180378. ]\n",
      " [  5642752.5  -5572384. ]\n",
      " [  8269112.   -8165267.5]\n",
      " [  7596587.5  -7501276.5]\n",
      " [  9780604.   -9657480. ]\n",
      " [  7529001.5  -7434526.5]\n",
      " [  6030847.5  -5955453.5]\n",
      " [  6810454.5  -6725109.5]\n",
      " [ 10870276.  -10733201. ]\n",
      " [  5102288.5  -5038612.5]\n",
      " [  3918354.2  -3869713.2]\n",
      " [  7277240.5  -7185855. ]\n",
      " [  6708931.   -6624773. ]\n",
      " [  7450373.5  -7356820. ]\n",
      " [  6778235.5  -6693249.5]\n",
      " [  6424525.5  -6344029.5]\n",
      " [  6629260.   -6546192. ]\n",
      " [  6709429.5  -6625308.5]\n",
      " [  6977933.5  -6890353. ]\n",
      " [  6847436.   -6761502.5]\n",
      " [  9945796.   -9820408. ]\n",
      " [  7631621.   -7535699.5]\n",
      " [  5800407.   -5727789.5]\n",
      " [  5215130.   -5149966. ]\n",
      " [  6594747.5  -6512002. ]\n",
      " [  7155632.   -7065735. ]\n",
      " [  5514660.5  -5445650. ]\n",
      " [  7901533.   -7802131.5]\n",
      " [ 10367589.  -10236774. ]\n",
      " [ 15229617.  -15036900. ]\n",
      " [  6016922.   -5941396. ]\n",
      " [  9387345.   -9268962. ]\n",
      " [  8531009.   -8423537. ]\n",
      " [  6831902.   -6746064.5]\n",
      " [  5688035.   -5616762.5]\n",
      " [  6006284.5  -5930953. ]\n",
      " [ 14520821.  -14337050. ]\n",
      " [  9383974.   -9265590. ]\n",
      " [  8783906.   -8673167. ]\n",
      " [  6625219.5  -6541967.5]\n",
      " [  7267892.5  -7176476. ]\n",
      " [  5804016.   -5731232. ]\n",
      " [  4427381.5  -4372113. ]\n",
      " [  5275926.   -5209844. ]\n",
      " [  4691516.   -4632880.5]\n",
      " [  4986730.5  -4924356.5]\n",
      " [  4870285.5  -4809400. ]\n",
      " [  5490030.5  -5421271.5]\n",
      " [  4959687.5  -4897660.5]\n",
      " [  3816912.8  -3769420.8]\n",
      " [  4179559.5  -4127449. ]\n",
      " [  5457404.5  -5389056.5]\n",
      " [  4300206.   -4246576.5]\n",
      " [  6720156.5  -6635734.5]\n",
      " [  9797884.   -9674355. ]\n",
      " [  6599638.   -6516826. ]\n",
      " [  5331713.   -5265039. ]\n",
      " [  5150187.5  -5085840.5]\n",
      " [  5879066.   -5805473.5]\n",
      " [  4644215.5  -4586341. ]\n",
      " [  5191767.   -5126907.5]\n",
      " [  3944050.2  -3895052.2]\n",
      " [  3500497.5  -3457147.8]\n",
      " [  3703509.2  -3657577.8]\n",
      " [  3736651.   -3690301.5]\n",
      " [  3632978.5  -3587943.5]\n",
      " [  4072205.2  -4021584.2]\n",
      " [  3183142.2  -3143832.2]\n",
      " [  4307326.5  -4253722. ]\n",
      " [  2913460.5  -2877588.8]\n",
      " [  3175936.8  -3136731.2]\n",
      " [  3643917.2  -3598773. ]\n",
      " [  2888515.   -2852980. ]\n",
      " [  4580267.5  -4523205. ]\n",
      " [  4639814.5  -4581992.5]\n",
      " [  4274334.5  -4221166.5]\n",
      " [  4519712.   -4463432.5]\n",
      " [  3309323.2  -3268443.5]\n",
      " [  3476965.8  -3433946.5]\n",
      " [  4101715.8  -4050736.2]\n",
      " [  3974419.   -3925047.8]\n",
      " [  5240423.5  -5174983. ]\n",
      " [  5316312.   -5249930.5]\n",
      " [  5092289.   -5028767. ]\n",
      " [  3922710.8  -3874082.2]\n",
      " [  6355385.   -6275814. ]\n",
      " [  4341767.   -4287830.5]\n",
      " [  5195130.   -5130337. ]\n",
      " [  5098773.5  -5035205. ]\n",
      " [  8248718.   -8145107. ]\n",
      " [  6893849.5  -6807484. ]\n",
      " [  7115074.5  -7025865.5]\n",
      " [  8050171.5  -7949058.5]\n",
      " [  4913669.   -4852464.5]\n",
      " [  3488815.2  -3445744. ]\n",
      " [  3927387.   -3878741.5]\n",
      " [  4604229.5  -4546979. ]\n",
      " [  3805575.8  -3758501.8]\n",
      " [  3887362.8  -3839261.5]\n",
      " [  3234418.5  -3194628.8]\n",
      " [  3143973.5  -3105346.2]\n",
      " [  4301949.   -4248598.5]\n",
      " [  5858359.5  -5785218.5]\n",
      " [  3645467.8  -3600479.8]\n",
      " [  3520857.8  -3477456.5]\n",
      " [  4597605.5  -4540494.5]\n",
      " [  2991092.2  -2954426.2]\n",
      " [  4274419.5  -4221428.5]\n",
      " [  4780810.5  -4721386.5]\n",
      " [  4043005.8  -3992985.5]\n",
      " [  3295780.5  -3255270.8]\n",
      " [  3908785.8  -3860491.5]\n",
      " [  3001856.2  -2965113.5]\n",
      " [  3157923.2  -3119186. ]\n",
      " [  3172011.   -3133078.8]\n",
      " [  3731604.   -3685555.8]\n",
      " [  7551799.5  -7457117. ]\n",
      " [ 10438271.  -10306926. ]] [[1, 0], [0, 1], [1, 0], [0, 1], [1, 0], [1, 0], [0, 1], [1, 0], [1, 0], [1, 0], [1, 0], [0, 1], [0, 1], [0, 1], [1, 0], [1, 0], [0, 1], [1, 0], [0, 1], [0, 1], [1, 0], [1, 0], [0, 1], [1, 0], [1, 0], [0, 1], [1, 0], [1, 0], [0, 1], [1, 0], [0, 1], [0, 1], [0, 1], [1, 0], [1, 0], [1, 0], [0, 1], [1, 0], [1, 0], [0, 1], [0, 1], [0, 1], [1, 0], [1, 0], [1, 0], [1, 0], [1, 0], [0, 1], [0, 1], [1, 0], [1, 0], [1, 0], [0, 1], [0, 1], [0, 1], [1, 0], [1, 0], [1, 0], [0, 1], [1, 0], [1, 0], [0, 1], [1, 0], [0, 1], [1, 0], [1, 0], [1, 0], [1, 0], [1, 0], [0, 1], [1, 0], [1, 0], [1, 0], [0, 1], [1, 0], [0, 1], [0, 1], [0, 1], [1, 0], [1, 0], [0, 1], [1, 0], [1, 0], [1, 0], [1, 0], [0, 1], [0, 1], [1, 0], [1, 0], [0, 1], [1, 0], [0, 1], [1, 0], [1, 0], [0, 1], [1, 0], [1, 0], [1, 0], [1, 0], [0, 1], [0, 1], [1, 0], [1, 0], [1, 0], [1, 0], [1, 0], [1, 0], [1, 0], [1, 0], [0, 1], [0, 1], [0, 1], [0, 1], [1, 0], [1, 0], [0, 1], [0, 1], [0, 1], [1, 0], [1, 0], [1, 0], [0, 1], [0, 1], [0, 1], [1, 0], [0, 1], [1, 0], [0, 1], [1, 0], [0, 1], [0, 1], [0, 1], [0, 1], [0, 1], [0, 1], [1, 0], [0, 1], [1, 0], [1, 0], [0, 1], [1, 0], [1, 0], [0, 1], [0, 1], [1, 0], [0, 1], [1, 0], [0, 1], [1, 0], [1, 0], [0, 1], [0, 1], [1, 0], [1, 0], [1, 0], [0, 1], [0, 1], [0, 1], [1, 0], [1, 0], [0, 1], [0, 1], [0, 1], [1, 0], [0, 1], [1, 0], [0, 1], [1, 0], [1, 0], [1, 0], [1, 0], [0, 1], [0, 1], [0, 1], [0, 1], [1, 0], [1, 0], [1, 0], [0, 1], [0, 1], [1, 0], [0, 1], [0, 1], [1, 0], [0, 1], [1, 0], [0, 1], [1, 0], [1, 0], [0, 1], [0, 1], [1, 0], [1, 0], [1, 0], [1, 0], [0, 1], [0, 1], [0, 1], [1, 0], [1, 0], [0, 1], [1, 0], [0, 1], [1, 0], [1, 0], [1, 0], [0, 1], [0, 1], [1, 0], [1, 0], [1, 0], [1, 0], [1, 0], [1, 0], [0, 1], [0, 1], [1, 0], [1, 0], [1, 0], [0, 1], [1, 0], [0, 1], [1, 0], [0, 1], [1, 0], [1, 0], [0, 1], [0, 1], [0, 1], [1, 0], [1, 0], [1, 0], [0, 1], [0, 1], [0, 1], [1, 0], [1, 0], [1, 0], [1, 0], [1, 0], [0, 1], [1, 0], [0, 1], [1, 0], [1, 0], [1, 0], [1, 0], [1, 0], [1, 0], [1, 0], [1, 0], [0, 1], [0, 1], [0, 1], [1, 0], [0, 1], [1, 0], [0, 1], [1, 0], [1, 0], [0, 1], [1, 0], [1, 0], [0, 1], [0, 1], [0, 1], [0, 1], [0, 1], [0, 1], [1, 0], [0, 1], [1, 0], [0, 1]]\n"
     ]
    }
   ],
   "source": [
    "print(session.run(\n",
    "    y_output, feed_dict={x_input: x_test}), y_test)"
   ]
  },
  {
   "cell_type": "code",
   "execution_count": null,
   "metadata": {},
   "outputs": [],
   "source": []
  }
 ],
 "metadata": {
  "kernelspec": {
   "display_name": "Python 3",
   "language": "python",
   "name": "python3"
  },
  "language_info": {
   "codemirror_mode": {
    "name": "ipython",
    "version": 3
   },
   "file_extension": ".py",
   "mimetype": "text/x-python",
   "name": "python",
   "nbconvert_exporter": "python",
   "pygments_lexer": "ipython3",
   "version": "3.6.8"
  }
 },
 "nbformat": 4,
 "nbformat_minor": 2
}
